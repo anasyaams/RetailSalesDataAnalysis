{
  "nbformat": 4,
  "nbformat_minor": 0,
  "metadata": {
    "colab": {
      "provenance": []
    },
    "kernelspec": {
      "name": "python3",
      "display_name": "Python 3"
    },
    "language_info": {
      "name": "python"
    }
  },
  "cells": [
    {
      "cell_type": "code",
      "execution_count": null,
      "metadata": {
        "id": "ubwhqNTcVh-6"
      },
      "outputs": [],
      "source": [
        "import pandas as pd\n",
        "import matplotlib.pyplot as plt\n",
        "import numpy as np"
      ]
    },
    {
      "cell_type": "code",
      "source": [
        "from google.colab import drive\n",
        "drive.mount('/content/drive')"
      ],
      "metadata": {
        "colab": {
          "base_uri": "https://localhost:8080/"
        },
        "id": "8Wjgctc2X61C",
        "outputId": "c1ea2f9b-63a5-4937-8879-8547a52c71cf"
      },
      "execution_count": null,
      "outputs": [
        {
          "output_type": "stream",
          "name": "stdout",
          "text": [
            "Mounted at /content/drive\n"
          ]
        }
      ]
    },
    {
      "cell_type": "code",
      "source": [
        "# import dataset dengan pandas\n",
        "data = pd.read_csv('/content/drive/MyDrive/kerjaa /data analyst/data_penjualan_retail.csv')"
      ],
      "metadata": {
        "id": "if9j51HoYDTj"
      },
      "execution_count": null,
      "outputs": []
    },
    {
      "cell_type": "code",
      "source": [
        "data.duplicated().sum()"
      ],
      "metadata": {
        "colab": {
          "base_uri": "https://localhost:8080/"
        },
        "id": "AjsGeglrYfYi",
        "outputId": "a5d532fe-0db5-472b-b518-2b6050daa586"
      },
      "execution_count": null,
      "outputs": [
        {
          "output_type": "execute_result",
          "data": {
            "text/plain": [
              "4"
            ]
          },
          "metadata": {},
          "execution_count": 4
        }
      ]
    },
    {
      "cell_type": "code",
      "source": [
        "data.info()"
      ],
      "metadata": {
        "colab": {
          "base_uri": "https://localhost:8080/"
        },
        "id": "MH0SU7ZaZeiG",
        "outputId": "754ebe25-ae4f-41a1-cc5c-a709a3ea77cc"
      },
      "execution_count": null,
      "outputs": [
        {
          "output_type": "stream",
          "name": "stdout",
          "text": [
            "<class 'pandas.core.frame.DataFrame'>\n",
            "RangeIndex: 302010 entries, 0 to 302009\n",
            "Data columns (total 30 columns):\n",
            " #   Column            Non-Null Count   Dtype  \n",
            "---  ------            --------------   -----  \n",
            " 0   Transaction_ID    301677 non-null  float64\n",
            " 1   Customer_ID       301702 non-null  float64\n",
            " 2   Name              301628 non-null  object \n",
            " 3   Email             301663 non-null  object \n",
            " 4   Phone             301648 non-null  float64\n",
            " 5   Address           301695 non-null  object \n",
            " 6   City              301762 non-null  object \n",
            " 7   State             301729 non-null  object \n",
            " 8   Zipcode           301670 non-null  float64\n",
            " 9   Country           301739 non-null  object \n",
            " 10  Age               301837 non-null  float64\n",
            " 11  Gender            301693 non-null  object \n",
            " 12  Income            301720 non-null  object \n",
            " 13  Customer_Segment  301795 non-null  object \n",
            " 14  Date              301651 non-null  object \n",
            " 15  Year              301660 non-null  float64\n",
            " 16  Month             301737 non-null  object \n",
            " 17  Time              301660 non-null  object \n",
            " 18  Total_Purchases   301649 non-null  float64\n",
            " 19  Amount            301653 non-null  float64\n",
            " 20  Total_Amount      301660 non-null  float64\n",
            " 21  Product_Category  301727 non-null  object \n",
            " 22  Product_Brand     301729 non-null  object \n",
            " 23  Product_Type      302010 non-null  object \n",
            " 24  Feedback          301826 non-null  object \n",
            " 25  Shipping_Method   301673 non-null  object \n",
            " 26  Payment_Method    301713 non-null  object \n",
            " 27  Order_Status      301775 non-null  object \n",
            " 28  Ratings           301826 non-null  float64\n",
            " 29  products          302010 non-null  object \n",
            "dtypes: float64(10), object(20)\n",
            "memory usage: 69.1+ MB\n"
          ]
        }
      ]
    },
    {
      "cell_type": "code",
      "source": [
        "#remove duplicate data\n",
        "data.drop_duplicates(subset=['Transaction_ID', 'Customer_ID', 'Name', 'Email', 'Phone', 'Address', 'City', 'State', 'Zipcode', 'Country', 'Age', 'Gender', 'Income', 'Customer_Segment', 'Date', 'Year', 'Month', 'Time', 'Total_Purchases', 'Amount', 'Total_Amount', 'Product_Category', 'Product_Brand', 'Product_Type', 'Feedback', 'Shipping_Method', 'Payment_Method', 'Order_Status', 'Ratings', 'products'], keep='first', inplace=True)"
      ],
      "metadata": {
        "id": "i3cZz1OhYf78"
      },
      "execution_count": null,
      "outputs": []
    },
    {
      "cell_type": "code",
      "source": [
        "data.duplicated().sum()"
      ],
      "metadata": {
        "colab": {
          "base_uri": "https://localhost:8080/"
        },
        "id": "z5eRRTozZ-p1",
        "outputId": "4212d7d8-adac-407d-9c47-367f6e6976b8"
      },
      "execution_count": null,
      "outputs": [
        {
          "output_type": "execute_result",
          "data": {
            "text/plain": [
              "0"
            ]
          },
          "metadata": {},
          "execution_count": 6
        }
      ]
    },
    {
      "cell_type": "code",
      "source": [
        "data.isnull().sum()"
      ],
      "metadata": {
        "colab": {
          "base_uri": "https://localhost:8080/"
        },
        "id": "Z2q9HHC_Yh4t",
        "outputId": "1c25702a-ac61-421b-e984-3483047e2039"
      },
      "execution_count": null,
      "outputs": [
        {
          "output_type": "execute_result",
          "data": {
            "text/plain": [
              "Transaction_ID      333\n",
              "Customer_ID         308\n",
              "Name                382\n",
              "Email               347\n",
              "Phone               362\n",
              "Address             315\n",
              "City                248\n",
              "State               281\n",
              "Zipcode             340\n",
              "Country             271\n",
              "Age                 173\n",
              "Gender              317\n",
              "Income              290\n",
              "Customer_Segment    215\n",
              "Date                359\n",
              "Year                350\n",
              "Month               273\n",
              "Time                350\n",
              "Total_Purchases     361\n",
              "Amount              356\n",
              "Total_Amount        350\n",
              "Product_Category    283\n",
              "Product_Brand       281\n",
              "Product_Type          0\n",
              "Feedback            184\n",
              "Shipping_Method     337\n",
              "Payment_Method      297\n",
              "Order_Status        235\n",
              "Ratings             184\n",
              "products              0\n",
              "dtype: int64"
            ]
          },
          "metadata": {},
          "execution_count": 7
        }
      ]
    },
    {
      "cell_type": "code",
      "source": [
        "#fill null in numerical columns with mean\n",
        "numerical_cols = data.select_dtypes(include=['float64', 'int64']).columns\n",
        "data[numerical_cols] = data[numerical_cols].fillna(data[numerical_cols].mean())"
      ],
      "metadata": {
        "id": "DonK8PgqYmei"
      },
      "execution_count": null,
      "outputs": []
    },
    {
      "cell_type": "code",
      "source": [
        "#fill null in categorical columns with mode\n",
        "categorical_cols = data.select_dtypes(include=['object']).columns\n",
        "data[categorical_cols] = data[categorical_cols].fillna(data[categorical_cols].mode().iloc[0])"
      ],
      "metadata": {
        "id": "TqXD8UCLYwde"
      },
      "execution_count": null,
      "outputs": []
    },
    {
      "cell_type": "code",
      "source": [
        "data.isnull().sum()"
      ],
      "metadata": {
        "colab": {
          "base_uri": "https://localhost:8080/"
        },
        "id": "OxZYaRZ9aFG0",
        "outputId": "0674f4b1-b77c-4122-b295-3b2e1c4cde4d"
      },
      "execution_count": null,
      "outputs": [
        {
          "output_type": "execute_result",
          "data": {
            "text/plain": [
              "Transaction_ID      0\n",
              "Customer_ID         0\n",
              "Name                0\n",
              "Email               0\n",
              "Phone               0\n",
              "Address             0\n",
              "City                0\n",
              "State               0\n",
              "Zipcode             0\n",
              "Country             0\n",
              "Age                 0\n",
              "Gender              0\n",
              "Income              0\n",
              "Customer_Segment    0\n",
              "Date                0\n",
              "Year                0\n",
              "Month               0\n",
              "Time                0\n",
              "Total_Purchases     0\n",
              "Amount              0\n",
              "Total_Amount        0\n",
              "Product_Category    0\n",
              "Product_Brand       0\n",
              "Product_Type        0\n",
              "Feedback            0\n",
              "Shipping_Method     0\n",
              "Payment_Method      0\n",
              "Order_Status        0\n",
              "Ratings             0\n",
              "products            0\n",
              "dtype: int64"
            ]
          },
          "metadata": {},
          "execution_count": 10
        }
      ]
    },
    {
      "cell_type": "code",
      "source": [
        "from google.colab import files\n",
        "data.to_csv('data_penjualan_retail_bersih.csv')\n",
        "files.download('data_penjualan_retail_bersih.csv')"
      ],
      "metadata": {
        "colab": {
          "base_uri": "https://localhost:8080/",
          "height": 34
        },
        "id": "J2jJoDA0b3dd",
        "outputId": "11704d88-ef23-4663-851a-e363da1ab7e8"
      },
      "execution_count": null,
      "outputs": [
        {
          "output_type": "display_data",
          "data": {
            "text/plain": [
              "<IPython.core.display.Javascript object>"
            ],
            "application/javascript": [
              "\n",
              "    async function download(id, filename, size) {\n",
              "      if (!google.colab.kernel.accessAllowed) {\n",
              "        return;\n",
              "      }\n",
              "      const div = document.createElement('div');\n",
              "      const label = document.createElement('label');\n",
              "      label.textContent = `Downloading \"${filename}\": `;\n",
              "      div.appendChild(label);\n",
              "      const progress = document.createElement('progress');\n",
              "      progress.max = size;\n",
              "      div.appendChild(progress);\n",
              "      document.body.appendChild(div);\n",
              "\n",
              "      const buffers = [];\n",
              "      let downloaded = 0;\n",
              "\n",
              "      const channel = await google.colab.kernel.comms.open(id);\n",
              "      // Send a message to notify the kernel that we're ready.\n",
              "      channel.send({})\n",
              "\n",
              "      for await (const message of channel.messages) {\n",
              "        // Send a message to notify the kernel that we're ready.\n",
              "        channel.send({})\n",
              "        if (message.buffers) {\n",
              "          for (const buffer of message.buffers) {\n",
              "            buffers.push(buffer);\n",
              "            downloaded += buffer.byteLength;\n",
              "            progress.value = downloaded;\n",
              "          }\n",
              "        }\n",
              "      }\n",
              "      const blob = new Blob(buffers, {type: 'application/binary'});\n",
              "      const a = document.createElement('a');\n",
              "      a.href = window.URL.createObjectURL(blob);\n",
              "      a.download = filename;\n",
              "      div.appendChild(a);\n",
              "      a.click();\n",
              "      div.remove();\n",
              "    }\n",
              "  "
            ]
          },
          "metadata": {}
        },
        {
          "output_type": "display_data",
          "data": {
            "text/plain": [
              "<IPython.core.display.Javascript object>"
            ],
            "application/javascript": [
              "download(\"download_6e28c4e8-52c6-4fff-a5df-cd8dd2abd228\", \"data_penjualan_retail_bersih.csv\", 87027357)"
            ]
          },
          "metadata": {}
        }
      ]
    }
  ]
}